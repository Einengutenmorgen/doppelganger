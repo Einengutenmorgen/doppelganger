{
  "nbformat": 4,
  "nbformat_minor": 0,
  "metadata": {
    "colab": {
      "provenance": []
    },
    "kernelspec": {
      "name": "python3",
      "display_name": "Python 3"
    },
    "language_info": {
      "name": "python"
    }
  },
  "cells": [
    {
      "cell_type": "code",
      "execution_count": null,
      "metadata": {
        "id": "FSsB-EKBWbqm"
      },
      "outputs": [],
      "source": [
        "# Disparity and agreement calculation among the scores given by Human and the LLMs\n",
        "\n",
        "import pandas as pd\n",
        "import matplotlib.pyplot as plt\n",
        "\n",
        "# Load the data from the Excel file\n",
        "df = pd.read_excel('File_Name.xlsx', sheet_name='Sheet_Name')\n",
        "\n",
        "# Select the relevant columns\n",
        "df_plot = df[['ID', 'Human', 'Phi-3', 'Llama3.2-1B', 'Llama3.2-1B (CCI)']]\n",
        "\n",
        "# Function to calculate standard deviation and select top and bottom comparisons\n",
        "def calculate_std_and_select(df):\n",
        "    # Calculate the standard deviation for each row\n",
        "    df['std_dev'] = df[['Human', 'Phi-3', 'Llama3.2-1B', 'Llama3.2-1B (CCI)']].std(axis=1)\n",
        "    # Sort by standard deviation and select the top 5 and bottom 5\n",
        "    top_5 = df.sort_values(by='std_dev', ascending=False).head(5)\n",
        "    bottom_5 = df.sort_values(by='std_dev', ascending=True).head(5)\n",
        "    # Combine the top and bottom into one DataFrame\n",
        "    selected_df = pd.concat([top_5, bottom_5])\n",
        "    selected_ids = selected_df['ID']  # Save IDs to use as comparison IDs\n",
        "    selected_df = selected_df.drop(columns=['std_dev', 'ID'])  # Drop the std_dev and ID columns for plotting\n",
        "    return selected_df, selected_ids\n",
        "\n",
        "# Select top and bottom data\n",
        "selected_df, selected_ids = calculate_std_and_select(df_plot)\n",
        "\n",
        "# Plotting function for grouped bar charts with actual comparison IDs\n",
        "def plot_grouped_bars_with_ids(df, ids, title):\n",
        "    fig, ax = plt.subplots(figsize=(18, 8))\n",
        "    x = np.arange(len(ids))\n",
        "    width = 0.15\n",
        "    ax.bar(x - 1.5 * width, df['Human'], width, label='Human')\n",
        "    ax.bar(x - 0.5 * width, df['Phi-3'], width, label='Phi-3')\n",
        "    ax.bar(x + 0.5 * width, df['Llama3.2-1B'], width, label='Llama3.2-1B')\n",
        "    ax.bar(x + 1.5 * width, df['Llama3.2-1B (CCI)'], width, label='Llama3.2-1B (CCI)')\n",
        "    ax.set_xlabel('ID')\n",
        "    ax.set_ylabel('Score')\n",
        "    ax.set_title(title)\n",
        "    ax.set_xticks(x)\n",
        "    ax.set_xticklabels(ids, rotation=90)\n",
        "    ax.legend()\n",
        "    plt.tight_layout()\n",
        "    plt.show()\n",
        "\n",
        "# Plot the selected data\n",
        "plot_grouped_bars_with_ids(selected_df, selected_ids, \"Disparity & Agreement in Scores\")"
      ]
    }
  ]
}