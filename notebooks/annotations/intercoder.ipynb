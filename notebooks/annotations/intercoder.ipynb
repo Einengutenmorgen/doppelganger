{
 "cells": [
  {
   "cell_type": "code",
   "execution_count": 18,
   "metadata": {},
   "outputs": [
    {
     "name": "stderr",
     "output_type": "stream",
     "text": [
      "/var/folders/gm/t6hjnb8x6qq26hlg3mq4p9vc0000gn/T/ipykernel_13900/3828512661.py:3: DtypeWarning: Columns (2,3,6,9) have mixed types. Specify dtype option on import or set low_memory=False.\n",
      "  df=pd.read_csv('/Users/mogen/Desktop/Research_Case/data/Kopie von FolloweeIDs2_tweets_df_AugustPull.csv')\n"
     ]
    },
    {
     "data": {
      "text/plain": [
       "7790741"
      ]
     },
     "execution_count": 18,
     "metadata": {},
     "output_type": "execute_result"
    }
   ],
   "source": [
    "import pandas as pd \n",
    "\n",
    "df=pd.read_csv('/Users/mogen/Desktop/Research_Case/data/Kopie von FolloweeIDs2_tweets_df_AugustPull.csv')\n",
    "len(df)"
   ]
  },
  {
   "cell_type": "code",
   "execution_count": 23,
   "metadata": {},
   "outputs": [
    {
     "name": "stdout",
     "output_type": "stream",
     "text": [
      "Earliest date: 2023-08-13 13:32:00.832978\n",
      "Latest date: 2023-08-15 23:03:49.406150\n"
     ]
    }
   ],
   "source": [
    "# Convert string dates to datetime (if needed)\n",
    "df['collected_at'] = pd.to_datetime(df['collected_at'], format='mixed')\n",
    "\n",
    "# Then find min and max\n",
    "earliest_date = df['collected_at'].min()\n",
    "latest_date = df['collected_at'].max()\n",
    "\n",
    "print(f\"Earliest date: {earliest_date}\")\n",
    "print(f\"Latest date: {latest_date}\")"
   ]
  },
  {
   "cell_type": "code",
   "execution_count": 97,
   "metadata": {},
   "outputs": [
    {
     "name": "stdout",
     "output_type": "stream",
     "text": [
      "Requirement already satisfied: argilla in /Users/mogen/miniconda3/lib/python3.12/site-packages (2.7.0)\n",
      "Requirement already satisfied: httpx>=0.26.0 in /Users/mogen/miniconda3/lib/python3.12/site-packages (from argilla) (0.28.0)\n",
      "Requirement already satisfied: pydantic<3.0.0,>=2.6.0 in /Users/mogen/miniconda3/lib/python3.12/site-packages (from argilla) (2.10.2)\n",
      "Requirement already satisfied: huggingface_hub>=0.22.0 in /Users/mogen/miniconda3/lib/python3.12/site-packages (from argilla) (0.26.3)\n",
      "Requirement already satisfied: tqdm>=4.60.0 in /Users/mogen/miniconda3/lib/python3.12/site-packages (from argilla) (4.66.5)\n",
      "Requirement already satisfied: rich>=10.0.0 in /Users/mogen/miniconda3/lib/python3.12/site-packages (from argilla) (13.9.4)\n",
      "Requirement already satisfied: datasets>=2.0.0 in /Users/mogen/miniconda3/lib/python3.12/site-packages (from argilla) (3.3.2)\n",
      "Requirement already satisfied: pillow>=9.5.0 in /Users/mogen/miniconda3/lib/python3.12/site-packages (from argilla) (11.0.0)\n",
      "Requirement already satisfied: standardwebhooks>=1.0.0 in /Users/mogen/miniconda3/lib/python3.12/site-packages (from argilla) (1.0.0)\n",
      "Requirement already satisfied: filelock in /Users/mogen/miniconda3/lib/python3.12/site-packages (from datasets>=2.0.0->argilla) (3.16.1)\n",
      "Requirement already satisfied: numpy>=1.17 in /Users/mogen/miniconda3/lib/python3.12/site-packages (from datasets>=2.0.0->argilla) (2.1.3)\n",
      "Requirement already satisfied: pyarrow>=15.0.0 in /Users/mogen/miniconda3/lib/python3.12/site-packages (from datasets>=2.0.0->argilla) (19.0.1)\n",
      "Requirement already satisfied: dill<0.3.9,>=0.3.0 in /Users/mogen/miniconda3/lib/python3.12/site-packages (from datasets>=2.0.0->argilla) (0.3.8)\n",
      "Requirement already satisfied: pandas in /Users/mogen/miniconda3/lib/python3.12/site-packages (from datasets>=2.0.0->argilla) (2.2.3)\n",
      "Requirement already satisfied: requests>=2.32.2 in /Users/mogen/miniconda3/lib/python3.12/site-packages (from datasets>=2.0.0->argilla) (2.32.3)\n",
      "Requirement already satisfied: xxhash in /Users/mogen/miniconda3/lib/python3.12/site-packages (from datasets>=2.0.0->argilla) (3.5.0)\n",
      "Requirement already satisfied: multiprocess<0.70.17 in /Users/mogen/miniconda3/lib/python3.12/site-packages (from datasets>=2.0.0->argilla) (0.70.16)\n",
      "Requirement already satisfied: fsspec<=2024.12.0,>=2023.1.0 in /Users/mogen/miniconda3/lib/python3.12/site-packages (from fsspec[http]<=2024.12.0,>=2023.1.0->datasets>=2.0.0->argilla) (2024.10.0)\n",
      "Requirement already satisfied: aiohttp in /Users/mogen/miniconda3/lib/python3.12/site-packages (from datasets>=2.0.0->argilla) (3.11.8)\n",
      "Requirement already satisfied: packaging in /Users/mogen/miniconda3/lib/python3.12/site-packages (from datasets>=2.0.0->argilla) (24.1)\n",
      "Requirement already satisfied: pyyaml>=5.1 in /Users/mogen/miniconda3/lib/python3.12/site-packages (from datasets>=2.0.0->argilla) (6.0.2)\n",
      "Requirement already satisfied: anyio in /Users/mogen/miniconda3/lib/python3.12/site-packages (from httpx>=0.26.0->argilla) (4.6.2.post1)\n",
      "Requirement already satisfied: certifi in /Users/mogen/miniconda3/lib/python3.12/site-packages (from httpx>=0.26.0->argilla) (2024.8.30)\n",
      "Requirement already satisfied: httpcore==1.* in /Users/mogen/miniconda3/lib/python3.12/site-packages (from httpx>=0.26.0->argilla) (1.0.7)\n",
      "Requirement already satisfied: idna in /Users/mogen/miniconda3/lib/python3.12/site-packages (from httpx>=0.26.0->argilla) (3.7)\n",
      "Requirement already satisfied: h11<0.15,>=0.13 in /Users/mogen/miniconda3/lib/python3.12/site-packages (from httpcore==1.*->httpx>=0.26.0->argilla) (0.14.0)\n",
      "Requirement already satisfied: typing-extensions>=3.7.4.3 in /Users/mogen/miniconda3/lib/python3.12/site-packages (from huggingface_hub>=0.22.0->argilla) (4.12.2)\n",
      "Requirement already satisfied: annotated-types>=0.6.0 in /Users/mogen/miniconda3/lib/python3.12/site-packages (from pydantic<3.0.0,>=2.6.0->argilla) (0.7.0)\n",
      "Requirement already satisfied: pydantic-core==2.27.1 in /Users/mogen/miniconda3/lib/python3.12/site-packages (from pydantic<3.0.0,>=2.6.0->argilla) (2.27.1)\n",
      "Requirement already satisfied: markdown-it-py>=2.2.0 in /Users/mogen/miniconda3/lib/python3.12/site-packages (from rich>=10.0.0->argilla) (3.0.0)\n",
      "Requirement already satisfied: pygments<3.0.0,>=2.13.0 in /Users/mogen/miniconda3/lib/python3.12/site-packages (from rich>=10.0.0->argilla) (2.18.0)\n",
      "Requirement already satisfied: attrs>=21.3.0 in /Users/mogen/miniconda3/lib/python3.12/site-packages (from standardwebhooks>=1.0.0->argilla) (24.2.0)\n",
      "Requirement already satisfied: python-dateutil in /Users/mogen/miniconda3/lib/python3.12/site-packages (from standardwebhooks>=1.0.0->argilla) (2.9.0.post0)\n",
      "Requirement already satisfied: Deprecated in /Users/mogen/miniconda3/lib/python3.12/site-packages (from standardwebhooks>=1.0.0->argilla) (1.2.15)\n",
      "Requirement already satisfied: types-python-dateutil in /Users/mogen/miniconda3/lib/python3.12/site-packages (from standardwebhooks>=1.0.0->argilla) (2.9.0.20241003)\n",
      "Requirement already satisfied: types-Deprecated in /Users/mogen/miniconda3/lib/python3.12/site-packages (from standardwebhooks>=1.0.0->argilla) (1.2.15.20241117)\n",
      "Requirement already satisfied: aiohappyeyeballs>=2.3.0 in /Users/mogen/miniconda3/lib/python3.12/site-packages (from aiohttp->datasets>=2.0.0->argilla) (2.4.3)\n",
      "Requirement already satisfied: aiosignal>=1.1.2 in /Users/mogen/miniconda3/lib/python3.12/site-packages (from aiohttp->datasets>=2.0.0->argilla) (1.3.1)\n",
      "Requirement already satisfied: frozenlist>=1.1.1 in /Users/mogen/miniconda3/lib/python3.12/site-packages (from aiohttp->datasets>=2.0.0->argilla) (1.5.0)\n",
      "Requirement already satisfied: multidict<7.0,>=4.5 in /Users/mogen/miniconda3/lib/python3.12/site-packages (from aiohttp->datasets>=2.0.0->argilla) (6.1.0)\n",
      "Requirement already satisfied: propcache>=0.2.0 in /Users/mogen/miniconda3/lib/python3.12/site-packages (from aiohttp->datasets>=2.0.0->argilla) (0.2.0)\n",
      "Requirement already satisfied: yarl<2.0,>=1.17.0 in /Users/mogen/miniconda3/lib/python3.12/site-packages (from aiohttp->datasets>=2.0.0->argilla) (1.18.0)\n",
      "Requirement already satisfied: mdurl~=0.1 in /Users/mogen/miniconda3/lib/python3.12/site-packages (from markdown-it-py>=2.2.0->rich>=10.0.0->argilla) (0.1.2)\n",
      "Requirement already satisfied: charset-normalizer<4,>=2 in /Users/mogen/miniconda3/lib/python3.12/site-packages (from requests>=2.32.2->datasets>=2.0.0->argilla) (3.3.2)\n",
      "Requirement already satisfied: urllib3<3,>=1.21.1 in /Users/mogen/miniconda3/lib/python3.12/site-packages (from requests>=2.32.2->datasets>=2.0.0->argilla) (2.2.3)\n",
      "Requirement already satisfied: sniffio>=1.1 in /Users/mogen/miniconda3/lib/python3.12/site-packages (from anyio->httpx>=0.26.0->argilla) (1.3.1)\n",
      "Requirement already satisfied: wrapt<2,>=1.10 in /Users/mogen/miniconda3/lib/python3.12/site-packages (from Deprecated->standardwebhooks>=1.0.0->argilla) (1.17.0)\n",
      "Requirement already satisfied: pytz>=2020.1 in /Users/mogen/miniconda3/lib/python3.12/site-packages (from pandas->datasets>=2.0.0->argilla) (2024.2)\n",
      "Requirement already satisfied: tzdata>=2022.7 in /Users/mogen/miniconda3/lib/python3.12/site-packages (from pandas->datasets>=2.0.0->argilla) (2024.2)\n",
      "Requirement already satisfied: six>=1.5 in /Users/mogen/miniconda3/lib/python3.12/site-packages (from python-dateutil->standardwebhooks>=1.0.0->argilla) (1.16.0)\n",
      "\n",
      "\u001b[1m[\u001b[0m\u001b[34;49mnotice\u001b[0m\u001b[1;39;49m]\u001b[0m\u001b[39;49m A new release of pip is available: \u001b[0m\u001b[31;49m25.0\u001b[0m\u001b[39;49m -> \u001b[0m\u001b[32;49m25.0.1\u001b[0m\n",
      "\u001b[1m[\u001b[0m\u001b[34;49mnotice\u001b[0m\u001b[1;39;49m]\u001b[0m\u001b[39;49m To update, run: \u001b[0m\u001b[32;49mpip install --upgrade pip\u001b[0m\n",
      "Name: argilla\n",
      "Version: 2.7.0\n",
      "Summary: The Argilla python server SDK\n",
      "Home-page: \n",
      "Author: \n",
      "Author-email: Argilla <contact@argilla.io>\n",
      "License: Apache 2.0\n",
      "Location: /Users/mogen/miniconda3/lib/python3.12/site-packages\n",
      "Requires: datasets, httpx, huggingface_hub, pillow, pydantic, rich, standardwebhooks, tqdm\n",
      "Required-by: \n"
     ]
    },
    {
     "ename": "ImportError",
     "evalue": "cannot import name 'metrics' from 'argilla' (/Users/mogen/miniconda3/lib/python3.12/site-packages/argilla/__init__.py)",
     "output_type": "error",
     "traceback": [
      "\u001b[0;31m---------------------------------------------------------------------------\u001b[0m",
      "\u001b[0;31mImportError\u001b[0m                               Traceback (most recent call last)",
      "Cell \u001b[0;32mIn[97], line 6\u001b[0m\n\u001b[1;32m      2\u001b[0m get_ipython()\u001b[38;5;241m.\u001b[39msystem(\u001b[38;5;124m'\u001b[39m\u001b[38;5;124mpip show argilla --version\u001b[39m\u001b[38;5;124m'\u001b[39m)\n\u001b[1;32m      5\u001b[0m \u001b[38;5;28;01mimport\u001b[39;00m \u001b[38;5;21;01margilla\u001b[39;00m \u001b[38;5;28;01mas\u001b[39;00m \u001b[38;5;21;01mrg\u001b[39;00m\n\u001b[0;32m----> 6\u001b[0m \u001b[38;5;28;01mfrom\u001b[39;00m \u001b[38;5;21;01margilla\u001b[39;00m \u001b[38;5;28;01mimport\u001b[39;00m metrics\n",
      "\u001b[0;31mImportError\u001b[0m: cannot import name 'metrics' from 'argilla' (/Users/mogen/miniconda3/lib/python3.12/site-packages/argilla/__init__.py)"
     ]
    }
   ],
   "source": [
    "!pip install argilla\n",
    "!pip show argilla --version\n",
    "\n",
    "\n",
    "import argilla as rg\n",
    "from argilla import metrics\n"
   ]
  },
  {
   "cell_type": "code",
   "execution_count": null,
   "metadata": {},
   "outputs": [],
   "source": [
    "\n",
    "\n",
    "\n",
    "client = rg.Argilla(api_url=\"https://annotate.atrifle.net/\", api_key=\"M3L5f15BlBnpLgUSa88TMN-OWCP7EdUMUvs6uaD5YSY6J-9R6VwSB6MLRaPKOvfZLUSq94JMduIAqi1YVmj3tFuUy0l4indzgWWd9B3F-w0\")\n",
    "\n",
    "dataset = client.datasets(name=\"rcs_round_1\")\n",
    "\n",
    "\n"
   ]
  },
  {
   "cell_type": "code",
   "execution_count": 64,
   "metadata": {},
   "outputs": [
    {
     "name": "stdout",
     "output_type": "stream",
     "text": [
      "Current user: User(id=UUID('6339afcf-8f4d-48e9-afbc-e17e069f6239') inserted_at=datetime.datetime(2025, 2, 10, 14, 39, 13, 727090) updated_at=datetime.datetime(2025, 2, 10, 14, 39, 13, 727090) username='ned' role=<Role.annotator: 'annotator'> first_name='ned' last_name=None password=None)\n",
      "Can access records: True\n",
      "Your annotation progress:\n",
      "{'total': 100, 'completed': 6, 'pending': 94}\n"
     ]
    }
   ],
   "source": [
    "# Get your user information\n",
    "user_info = client.me\n",
    "print(f\"Current user: {user_info}\")\n",
    "\n",
    "# Try to access records in the dataset\n",
    "try:\n",
    "    # Get your records from the dataset\n",
    "    my_records = dataset.records()\n",
    "    print(f\"Can access records: {bool(my_records)}\")\n",
    "except Exception as e:\n",
    "    print(f\"Error accessing records: {e}\")\n",
    "\n",
    "# Try to check your progress\n",
    "try:\n",
    "    progress = dataset.progress()\n",
    "    print(\"Your annotation progress:\")\n",
    "    print(progress)\n",
    "except Exception as e:\n",
    "    print(f\"Error getting progress: {e}\")"
   ]
  },
  {
   "cell_type": "code",
   "execution_count": 113,
   "metadata": {},
   "outputs": [
    {
     "ename": "ForbiddenError",
     "evalue": "Argilla SDK error: ForbiddenError: User role is forbidden from performing this action by server. Details: {\"detail\":{\"code\":\"argilla.api.errors::ForbiddenOperationError\",\"params\":{\"detail\":\"Operation not allowed\"}}}",
     "output_type": "error",
     "traceback": [
      "\u001b[0;31m---------------------------------------------------------------------------\u001b[0m",
      "\u001b[0;31mHTTPStatusError\u001b[0m                           Traceback (most recent call last)",
      "File \u001b[0;32m~/miniconda3/lib/python3.12/site-packages/argilla/_exceptions/_api.py:91\u001b[0m, in \u001b[0;36mapi_error_handler.<locals>._handler_wrapper\u001b[0;34m(*args, **kwargs)\u001b[0m\n\u001b[1;32m     90\u001b[0m \u001b[38;5;28;01mtry\u001b[39;00m:\n\u001b[0;32m---> 91\u001b[0m     \u001b[38;5;28;01mreturn\u001b[39;00m \u001b[43mfunc\u001b[49m\u001b[43m(\u001b[49m\u001b[38;5;241;43m*\u001b[39;49m\u001b[43margs\u001b[49m\u001b[43m,\u001b[49m\u001b[43m \u001b[49m\u001b[38;5;241;43m*\u001b[39;49m\u001b[38;5;241;43m*\u001b[39;49m\u001b[43mkwargs\u001b[49m\u001b[43m)\u001b[49m\n\u001b[1;32m     92\u001b[0m \u001b[38;5;28;01mexcept\u001b[39;00m HTTPStatusError \u001b[38;5;28;01mas\u001b[39;00m e:\n",
      "File \u001b[0;32m~/miniconda3/lib/python3.12/site-packages/argilla/_api/_records.py:100\u001b[0m, in \u001b[0;36mRecordsAPI.list\u001b[0;34m(self, dataset_id, offset, limit, with_suggestions, with_responses, with_vectors)\u001b[0m\n\u001b[1;32m     99\u001b[0m response \u001b[38;5;241m=\u001b[39m \u001b[38;5;28mself\u001b[39m\u001b[38;5;241m.\u001b[39mhttp_client\u001b[38;5;241m.\u001b[39mget(\u001b[38;5;124mf\u001b[39m\u001b[38;5;124m\"\u001b[39m\u001b[38;5;124m/api/v1/datasets/\u001b[39m\u001b[38;5;132;01m{\u001b[39;00mdataset_id\u001b[38;5;132;01m}\u001b[39;00m\u001b[38;5;124m/records\u001b[39m\u001b[38;5;124m\"\u001b[39m, params\u001b[38;5;241m=\u001b[39mparams)\n\u001b[0;32m--> 100\u001b[0m \u001b[43mresponse\u001b[49m\u001b[38;5;241;43m.\u001b[39;49m\u001b[43mraise_for_status\u001b[49m\u001b[43m(\u001b[49m\u001b[43m)\u001b[49m\n\u001b[1;32m    101\u001b[0m response_json \u001b[38;5;241m=\u001b[39m response\u001b[38;5;241m.\u001b[39mjson()\n",
      "File \u001b[0;32m~/miniconda3/lib/python3.12/site-packages/httpx/_models.py:829\u001b[0m, in \u001b[0;36mResponse.raise_for_status\u001b[0;34m(self)\u001b[0m\n\u001b[1;32m    828\u001b[0m message \u001b[38;5;241m=\u001b[39m message\u001b[38;5;241m.\u001b[39mformat(\u001b[38;5;28mself\u001b[39m, error_type\u001b[38;5;241m=\u001b[39merror_type)\n\u001b[0;32m--> 829\u001b[0m \u001b[38;5;28;01mraise\u001b[39;00m HTTPStatusError(message, request\u001b[38;5;241m=\u001b[39mrequest, response\u001b[38;5;241m=\u001b[39m\u001b[38;5;28mself\u001b[39m)\n",
      "\u001b[0;31mHTTPStatusError\u001b[0m: Client error '403 Forbidden' for url 'https://annotate.atrifle.net/api/v1/datasets/b1a75190-f5a3-4fb7-92e0-1c6a1e2e3dd2/records?offset=0&limit=256&include=suggestions&include=responses'\nFor more information check: https://developer.mozilla.org/en-US/docs/Web/HTTP/Status/403",
      "\nDuring handling of the above exception, another exception occurred:\n",
      "\u001b[0;31mForbiddenError\u001b[0m                            Traceback (most recent call last)",
      "Cell \u001b[0;32mIn[113], line 16\u001b[0m\n\u001b[1;32m     13\u001b[0m     client \u001b[38;5;241m=\u001b[39m rg\u001b[38;5;241m.\u001b[39mArgilla(api_url\u001b[38;5;241m=\u001b[39m\u001b[38;5;124m\"\u001b[39m\u001b[38;5;124mhttps://annotate.atrifle.net/\u001b[39m\u001b[38;5;124m\"\u001b[39m, api_key\u001b[38;5;241m=\u001b[39mkey)\n\u001b[1;32m     14\u001b[0m     \u001b[38;5;28;01mfor\u001b[39;00m dataset \u001b[38;5;129;01min\u001b[39;00m client\u001b[38;5;241m.\u001b[39mdatasets:\n\u001b[1;32m     15\u001b[0m         \u001b[38;5;66;03m#dataset.settings.get() # this will get the dataset settings from the server\u001b[39;00m\n\u001b[0;32m---> 16\u001b[0m         \u001b[43mdataset\u001b[49m\u001b[38;5;241;43m.\u001b[39;49m\u001b[43mto_disk\u001b[49m\u001b[43m(\u001b[49m\n\u001b[1;32m     17\u001b[0m \u001b[43m    \u001b[49m\u001b[43mpath\u001b[49m\u001b[38;5;241;43m=\u001b[39;49m\u001b[38;5;124;43m\"\u001b[39;49m\u001b[38;5;124;43m/Users/mogen/Desktop/Research_Case/notebooks/annotations/jsonRecords\u001b[39;49m\u001b[38;5;124;43m\"\u001b[39;49m\u001b[43m,\u001b[49m\n\u001b[1;32m     18\u001b[0m \u001b[43m    \u001b[49m\u001b[43mwith_records\u001b[49m\u001b[38;5;241;43m=\u001b[39;49m\u001b[38;5;28;43;01mTrue\u001b[39;49;00m\n\u001b[1;32m     19\u001b[0m \u001b[43m)\u001b[49m\n",
      "File \u001b[0;32m~/miniconda3/lib/python3.12/site-packages/argilla/datasets/_io/_disk.py:58\u001b[0m, in \u001b[0;36mDiskImportExportMixin.to_disk\u001b[0;34m(self, path, with_records)\u001b[0m\n\u001b[1;32m     56\u001b[0m \u001b[38;5;28mself\u001b[39m\u001b[38;5;241m.\u001b[39msettings\u001b[38;5;241m.\u001b[39mto_json(path\u001b[38;5;241m=\u001b[39msettings_path)\n\u001b[1;32m     57\u001b[0m \u001b[38;5;28;01mif\u001b[39;00m with_records:\n\u001b[0;32m---> 58\u001b[0m     \u001b[38;5;28;43mself\u001b[39;49m\u001b[38;5;241;43m.\u001b[39;49m\u001b[43mrecords\u001b[49m\u001b[38;5;241;43m.\u001b[39;49m\u001b[43mto_json\u001b[49m\u001b[43m(\u001b[49m\u001b[43mpath\u001b[49m\u001b[38;5;241;43m=\u001b[39;49m\u001b[43mrecords_path\u001b[49m\u001b[43m)\u001b[49m\n\u001b[1;32m     60\u001b[0m \u001b[38;5;28;01mreturn\u001b[39;00m path\n",
      "File \u001b[0;32m~/miniconda3/lib/python3.12/site-packages/argilla/records/_dataset_records.py:390\u001b[0m, in \u001b[0;36mDatasetRecords.to_json\u001b[0;34m(self, path)\u001b[0m\n\u001b[1;32m    379\u001b[0m \u001b[38;5;28;01mdef\u001b[39;00m \u001b[38;5;21mto_json\u001b[39m(\u001b[38;5;28mself\u001b[39m, path: Union[Path, \u001b[38;5;28mstr\u001b[39m]) \u001b[38;5;241m-\u001b[39m\u001b[38;5;241m>\u001b[39m Path:\n\u001b[1;32m    380\u001b[0m \u001b[38;5;250m    \u001b[39m\u001b[38;5;124;03m\"\"\"\u001b[39;00m\n\u001b[1;32m    381\u001b[0m \u001b[38;5;124;03m    Export the records to a file on disk.\u001b[39;00m\n\u001b[1;32m    382\u001b[0m \n\u001b[0;32m   (...)\u001b[0m\n\u001b[1;32m    388\u001b[0m \n\u001b[1;32m    389\u001b[0m \u001b[38;5;124;03m    \"\"\"\u001b[39;00m\n\u001b[0;32m--> 390\u001b[0m     \u001b[38;5;28;01mreturn\u001b[39;00m \u001b[38;5;28;43mself\u001b[39;49m\u001b[43m(\u001b[49m\u001b[43m)\u001b[49m\u001b[38;5;241;43m.\u001b[39;49m\u001b[43mto_json\u001b[49m\u001b[43m(\u001b[49m\u001b[43mpath\u001b[49m\u001b[38;5;241;43m=\u001b[39;49m\u001b[43mpath\u001b[49m\u001b[43m)\u001b[49m\n",
      "File \u001b[0;32m~/miniconda3/lib/python3.12/site-packages/argilla/records/_dataset_records.py:158\u001b[0m, in \u001b[0;36mDatasetRecordsIterator.to_json\u001b[0;34m(self, path)\u001b[0m\n\u001b[1;32m    157\u001b[0m \u001b[38;5;28;01mdef\u001b[39;00m \u001b[38;5;21mto_json\u001b[39m(\u001b[38;5;28mself\u001b[39m, path: Union[Path, \u001b[38;5;28mstr\u001b[39m]) \u001b[38;5;241m-\u001b[39m\u001b[38;5;241m>\u001b[39m Path:\n\u001b[0;32m--> 158\u001b[0m     \u001b[38;5;28;01mreturn\u001b[39;00m JsonIO\u001b[38;5;241m.\u001b[39mto_json(records\u001b[38;5;241m=\u001b[39m\u001b[38;5;28;43mlist\u001b[39;49m\u001b[43m(\u001b[49m\u001b[38;5;28;43mself\u001b[39;49m\u001b[43m)\u001b[49m, path\u001b[38;5;241m=\u001b[39mpath)\n",
      "File \u001b[0;32m~/miniconda3/lib/python3.12/site-packages/argilla/records/_dataset_records.py:80\u001b[0m, in \u001b[0;36mDatasetRecordsIterator.__next__\u001b[0;34m(self)\u001b[0m\n\u001b[1;32m     78\u001b[0m \u001b[38;5;28;01mdef\u001b[39;00m \u001b[38;5;21m__next__\u001b[39m(\u001b[38;5;28mself\u001b[39m) \u001b[38;5;241m-\u001b[39m\u001b[38;5;241m>\u001b[39m Record:\n\u001b[1;32m     79\u001b[0m     \u001b[38;5;28;01mif\u001b[39;00m \u001b[38;5;28mself\u001b[39m\u001b[38;5;241m.\u001b[39m_no_records():\n\u001b[0;32m---> 80\u001b[0m         \u001b[38;5;28;43mself\u001b[39;49m\u001b[38;5;241;43m.\u001b[39;49m\u001b[43m_fetch_next_batch\u001b[49m\u001b[43m(\u001b[49m\u001b[43m)\u001b[49m\n\u001b[1;32m     82\u001b[0m     \u001b[38;5;28;01mreturn\u001b[39;00m \u001b[38;5;28mself\u001b[39m\u001b[38;5;241m.\u001b[39m_next_record()\n",
      "File \u001b[0;32m~/miniconda3/lib/python3.12/site-packages/argilla/records/_dataset_records.py:104\u001b[0m, in \u001b[0;36mDatasetRecordsIterator._fetch_next_batch\u001b[0;34m(self)\u001b[0m\n\u001b[1;32m    103\u001b[0m \u001b[38;5;28;01mdef\u001b[39;00m \u001b[38;5;21m_fetch_next_batch\u001b[39m(\u001b[38;5;28mself\u001b[39m) \u001b[38;5;241m-\u001b[39m\u001b[38;5;241m>\u001b[39m \u001b[38;5;28;01mNone\u001b[39;00m:\n\u001b[0;32m--> 104\u001b[0m     \u001b[38;5;28mself\u001b[39m\u001b[38;5;241m.\u001b[39m__records_batch \u001b[38;5;241m=\u001b[39m \u001b[38;5;28;43mlist\u001b[39;49m\u001b[43m(\u001b[49m\u001b[38;5;28;43mself\u001b[39;49m\u001b[38;5;241;43m.\u001b[39;49m\u001b[43m_list\u001b[49m\u001b[43m(\u001b[49m\u001b[43m)\u001b[49m\u001b[43m)\u001b[49m\n\u001b[1;32m    105\u001b[0m     \u001b[38;5;28mself\u001b[39m\u001b[38;5;241m.\u001b[39m__offset \u001b[38;5;241m+\u001b[39m\u001b[38;5;241m=\u001b[39m \u001b[38;5;28mlen\u001b[39m(\u001b[38;5;28mself\u001b[39m\u001b[38;5;241m.\u001b[39m__records_batch)\n",
      "File \u001b[0;32m~/miniconda3/lib/python3.12/site-packages/argilla/records/_dataset_records.py:122\u001b[0m, in \u001b[0;36mDatasetRecordsIterator._list\u001b[0;34m(self)\u001b[0m\n\u001b[1;32m    120\u001b[0m             \u001b[38;5;28;01myield\u001b[39;00m Record\u001b[38;5;241m.\u001b[39mfrom_model(model\u001b[38;5;241m=\u001b[39mrecord_model, dataset\u001b[38;5;241m=\u001b[39m\u001b[38;5;28mself\u001b[39m\u001b[38;5;241m.\u001b[39m__dataset)\n\u001b[1;32m    121\u001b[0m \u001b[38;5;28;01melse\u001b[39;00m:\n\u001b[0;32m--> 122\u001b[0m     \u001b[38;5;28;01mfor\u001b[39;00m record_model \u001b[38;5;129;01min\u001b[39;00m \u001b[38;5;28;43mself\u001b[39;49m\u001b[38;5;241;43m.\u001b[39;49m\u001b[43m_fetch_from_server_with_list\u001b[49m\u001b[43m(\u001b[49m\u001b[43m)\u001b[49m:\n\u001b[1;32m    123\u001b[0m         \u001b[38;5;28;01myield\u001b[39;00m Record\u001b[38;5;241m.\u001b[39mfrom_model(model\u001b[38;5;241m=\u001b[39mrecord_model, dataset\u001b[38;5;241m=\u001b[39m\u001b[38;5;28mself\u001b[39m\u001b[38;5;241m.\u001b[39m__dataset)\n",
      "File \u001b[0;32m~/miniconda3/lib/python3.12/site-packages/argilla/records/_dataset_records.py:126\u001b[0m, in \u001b[0;36mDatasetRecordsIterator._fetch_from_server_with_list\u001b[0;34m(self)\u001b[0m\n\u001b[1;32m    125\u001b[0m \u001b[38;5;28;01mdef\u001b[39;00m \u001b[38;5;21m_fetch_from_server_with_list\u001b[39m(\u001b[38;5;28mself\u001b[39m) \u001b[38;5;241m-\u001b[39m\u001b[38;5;241m>\u001b[39m List[RecordModel]:\n\u001b[0;32m--> 126\u001b[0m     \u001b[38;5;28;01mreturn\u001b[39;00m \u001b[38;5;28;43mself\u001b[39;49m\u001b[38;5;241;43m.\u001b[39;49m\u001b[43m__client\u001b[49m\u001b[38;5;241;43m.\u001b[39;49m\u001b[43mapi\u001b[49m\u001b[38;5;241;43m.\u001b[39;49m\u001b[43mrecords\u001b[49m\u001b[38;5;241;43m.\u001b[39;49m\u001b[43mlist\u001b[49m\u001b[43m(\u001b[49m\n\u001b[1;32m    127\u001b[0m \u001b[43m        \u001b[49m\u001b[43mdataset_id\u001b[49m\u001b[38;5;241;43m=\u001b[39;49m\u001b[38;5;28;43mself\u001b[39;49m\u001b[38;5;241;43m.\u001b[39;49m\u001b[43m__dataset\u001b[49m\u001b[38;5;241;43m.\u001b[39;49m\u001b[43mid\u001b[49m\u001b[43m,\u001b[49m\n\u001b[1;32m    128\u001b[0m \u001b[43m        \u001b[49m\u001b[43mlimit\u001b[49m\u001b[38;5;241;43m=\u001b[39;49m\u001b[38;5;28;43mself\u001b[39;49m\u001b[38;5;241;43m.\u001b[39;49m\u001b[43m__batch_size\u001b[49m\u001b[43m,\u001b[49m\n\u001b[1;32m    129\u001b[0m \u001b[43m        \u001b[49m\u001b[43moffset\u001b[49m\u001b[38;5;241;43m=\u001b[39;49m\u001b[38;5;28;43mself\u001b[39;49m\u001b[38;5;241;43m.\u001b[39;49m\u001b[43m__offset\u001b[49m\u001b[43m,\u001b[49m\n\u001b[1;32m    130\u001b[0m \u001b[43m        \u001b[49m\u001b[43mwith_responses\u001b[49m\u001b[38;5;241;43m=\u001b[39;49m\u001b[38;5;28;43mself\u001b[39;49m\u001b[38;5;241;43m.\u001b[39;49m\u001b[43m__with_responses\u001b[49m\u001b[43m,\u001b[49m\n\u001b[1;32m    131\u001b[0m \u001b[43m        \u001b[49m\u001b[43mwith_suggestions\u001b[49m\u001b[38;5;241;43m=\u001b[39;49m\u001b[38;5;28;43mself\u001b[39;49m\u001b[38;5;241;43m.\u001b[39;49m\u001b[43m__with_suggestions\u001b[49m\u001b[43m,\u001b[49m\n\u001b[1;32m    132\u001b[0m \u001b[43m        \u001b[49m\u001b[43mwith_vectors\u001b[49m\u001b[38;5;241;43m=\u001b[39;49m\u001b[38;5;28;43mself\u001b[39;49m\u001b[38;5;241;43m.\u001b[39;49m\u001b[43m__with_vectors\u001b[49m\u001b[43m,\u001b[49m\n\u001b[1;32m    133\u001b[0m \u001b[43m    \u001b[49m\u001b[43m)\u001b[49m\n",
      "File \u001b[0;32m~/miniconda3/lib/python3.12/site-packages/argilla/_exceptions/_api.py:93\u001b[0m, in \u001b[0;36mapi_error_handler.<locals>._handler_wrapper\u001b[0;34m(*args, **kwargs)\u001b[0m\n\u001b[1;32m     91\u001b[0m     \u001b[38;5;28;01mreturn\u001b[39;00m func(\u001b[38;5;241m*\u001b[39margs, \u001b[38;5;241m*\u001b[39m\u001b[38;5;241m*\u001b[39mkwargs)\n\u001b[1;32m     92\u001b[0m \u001b[38;5;28;01mexcept\u001b[39;00m HTTPStatusError \u001b[38;5;28;01mas\u001b[39;00m e:\n\u001b[0;32m---> 93\u001b[0m     \u001b[43m_error_switch\u001b[49m\u001b[43m(\u001b[49m\u001b[43mstatus_code\u001b[49m\u001b[38;5;241;43m=\u001b[39;49m\u001b[43me\u001b[49m\u001b[38;5;241;43m.\u001b[39;49m\u001b[43mresponse\u001b[49m\u001b[38;5;241;43m.\u001b[39;49m\u001b[43mstatus_code\u001b[49m\u001b[43m,\u001b[49m\u001b[43m \u001b[49m\u001b[43merror_detail\u001b[49m\u001b[38;5;241;43m=\u001b[39;49m\u001b[43me\u001b[49m\u001b[38;5;241;43m.\u001b[39;49m\u001b[43mresponse\u001b[49m\u001b[38;5;241;43m.\u001b[39;49m\u001b[43mtext\u001b[49m\u001b[43m)\u001b[49m\n",
      "File \u001b[0;32m~/miniconda3/lib/python3.12/site-packages/argilla/_exceptions/_api.py:87\u001b[0m, in \u001b[0;36mapi_error_handler.<locals>._error_switch\u001b[0;34m(status_code, error_detail)\u001b[0m\n\u001b[1;32m     77\u001b[0m switch \u001b[38;5;241m=\u001b[39m {\n\u001b[1;32m     78\u001b[0m     \u001b[38;5;241m400\u001b[39m: BadRequestError,\n\u001b[1;32m     79\u001b[0m     \u001b[38;5;241m401\u001b[39m: UnauthorizedError,\n\u001b[0;32m   (...)\u001b[0m\n\u001b[1;32m     84\u001b[0m     \u001b[38;5;241m500\u001b[39m: InternalServerError,\n\u001b[1;32m     85\u001b[0m }\n\u001b[1;32m     86\u001b[0m exception_class \u001b[38;5;241m=\u001b[39m switch\u001b[38;5;241m.\u001b[39mget(status_code, ArgillaAPIError)\n\u001b[0;32m---> 87\u001b[0m \u001b[38;5;28;01mraise\u001b[39;00m exception_class(\u001b[38;5;124mf\u001b[39m\u001b[38;5;124m\"\u001b[39m\u001b[38;5;132;01m{\u001b[39;00mexception_class\u001b[38;5;241m.\u001b[39mmessage\u001b[38;5;132;01m}\u001b[39;00m\u001b[38;5;124m. Details: \u001b[39m\u001b[38;5;132;01m{\u001b[39;00merror_detail\u001b[38;5;132;01m}\u001b[39;00m\u001b[38;5;124m\"\u001b[39m, status_code\u001b[38;5;241m=\u001b[39mstatus_code)\n",
      "\u001b[0;31mForbiddenError\u001b[0m: Argilla SDK error: ForbiddenError: User role is forbidden from performing this action by server. Details: {\"detail\":{\"code\":\"argilla.api.errors::ForbiddenOperationError\",\"params\":{\"detail\":\"Operation not allowed\"}}}"
     ]
    }
   ],
   "source": [
    "#ned \n",
    "nedapi= 'M3L5f15BlBnpLgUSa88TMN-OWCP7EdUMUvs6uaD5YSY6J-9R6VwSB6MLRaPKOvfZLUSq94JMduIAqi1YVmj3tFuUy0l4indzgWWd9B3F-w0'\n",
    "nodiapi ='daHlcqd24_l7-IJVs-BOJrDa0ckyKX3Ai_-dnb--V39Rk5B8z-cgLhPwNgBd4htjoFxDCxaqYljQoiflbgpCkU-qqz-FJm1WkwNNixWPxx0'\n",
    "juliaapi = 'lb3823oH8BAyP2xYc4NzBM2kak_Sfs0M_x29mQLtsdn_UC_e1Goc6M4My_AB3jw4h5R4jJ55GlG5slpKizYN-L_5hiBX9Z2nlyLc0xhuRR0'\n",
    "muratapi = 'gNKUFGzY_IwC8mmjeYA4ziYD2pNri4k-Coi9uWD136JZblH7ibDzE_mda19BMACe2LBnZVuCWRXYSVxkKO9OxnXlan-aocSLsoJM6Lc-dzo'\n",
    "\n",
    "\n",
    "records= []\n",
    "api_keys = [nedapi, nodiapi, juliaapi, muratapi]  \n",
    "\n",
    "for key in api_keys:\n",
    "\n",
    "    client = rg.Argilla(api_url=\"https://annotate.atrifle.net/\", api_key=key)\n",
    "    for dataset in client.datasets:\n",
    "        #dataset.settings.get() # this will get the dataset settings from the server\n",
    "        dataset.to_disk(\n",
    "    path=\"/Users/mogen/Desktop/Research_Case/notebooks/annotations/jsonRecords\",\n",
    "    with_records=True\n",
    ")"
   ]
  },
  {
   "cell_type": "code",
   "execution_count": null,
   "metadata": {},
   "outputs": [
    {
     "ename": "TypeError",
     "evalue": "DiskImportExportMixin.to_disk() missing 1 required positional argument: 'self'",
     "output_type": "error",
     "traceback": [
      "\u001b[0;31m---------------------------------------------------------------------------\u001b[0m",
      "\u001b[0;31mTypeError\u001b[0m                                 Traceback (most recent call last)",
      "Cell \u001b[0;32mIn[112], line 1\u001b[0m\n\u001b[0;32m----> 1\u001b[0m \u001b[43mrg\u001b[49m\u001b[38;5;241;43m.\u001b[39;49m\u001b[43mDataset\u001b[49m\u001b[38;5;241;43m.\u001b[39;49m\u001b[43mto_disk\u001b[49m\u001b[43m(\u001b[49m\n\u001b[1;32m      2\u001b[0m \u001b[43m    \u001b[49m\u001b[43mpath\u001b[49m\u001b[38;5;241;43m=\u001b[39;49m\u001b[38;5;124;43m\"\u001b[39;49m\u001b[38;5;124;43m/Users/mogen/Desktop/Research_Case/notebooks/annotations/jsonRecords\u001b[39;49m\u001b[38;5;124;43m\"\u001b[39;49m\u001b[43m,\u001b[49m\n\u001b[1;32m      3\u001b[0m \u001b[43m    \u001b[49m\u001b[43mwith_records\u001b[49m\u001b[38;5;241;43m=\u001b[39;49m\u001b[38;5;28;43;01mTrue\u001b[39;49;00m\n\u001b[1;32m      4\u001b[0m \u001b[43m)\u001b[49m\n",
      "\u001b[0;31mTypeError\u001b[0m: DiskImportExportMixin.to_disk() missing 1 required positional argument: 'self'"
     ]
    }
   ],
   "source": [
    "rg.Dataset"
   ]
  },
  {
   "cell_type": "code",
   "execution_count": 114,
   "metadata": {},
   "outputs": [
    {
     "ename": "ModuleNotFoundError",
     "evalue": "No module named 'argilla.client.feedback'; 'argilla.client' is not a package",
     "output_type": "error",
     "traceback": [
      "\u001b[0;31m---------------------------------------------------------------------------\u001b[0m",
      "\u001b[0;31mModuleNotFoundError\u001b[0m                       Traceback (most recent call last)",
      "Cell \u001b[0;32mIn[114], line 2\u001b[0m\n\u001b[1;32m      1\u001b[0m \u001b[38;5;28;01mimport\u001b[39;00m \u001b[38;5;21;01margilla\u001b[39;00m \u001b[38;5;28;01mas\u001b[39;00m \u001b[38;5;21;01mrg\u001b[39;00m\n\u001b[0;32m----> 2\u001b[0m \u001b[38;5;28;01mfrom\u001b[39;00m \u001b[38;5;21;01margilla\u001b[39;00m\u001b[38;5;21;01m.\u001b[39;00m\u001b[38;5;21;01mclient\u001b[39;00m\u001b[38;5;21;01m.\u001b[39;00m\u001b[38;5;21;01mfeedback\u001b[39;00m\u001b[38;5;21;01m.\u001b[39;00m\u001b[38;5;21;01mmetrics\u001b[39;00m \u001b[38;5;28;01mimport\u001b[39;00m AnnotatorMetric\n\u001b[1;32m      4\u001b[0m dataset \u001b[38;5;241m=\u001b[39m rg\u001b[38;5;241m.\u001b[39mFeedbackDataset\u001b[38;5;241m.\u001b[39mfrom_argilla(\u001b[38;5;124m\"\u001b[39m\u001b[38;5;124myour_dataset_name\u001b[39m\u001b[38;5;124m\"\u001b[39m, workspace\u001b[38;5;241m=\u001b[39m\u001b[38;5;124m\"\u001b[39m\u001b[38;5;124myour_workspace\u001b[39m\u001b[38;5;124m\"\u001b[39m)\n\u001b[1;32m      5\u001b[0m metric \u001b[38;5;241m=\u001b[39m AnnotatorMetric(dataset\u001b[38;5;241m=\u001b[39mdataset, question_name\u001b[38;5;241m=\u001b[39m\u001b[38;5;124m\"\u001b[39m\u001b[38;5;124myour_question_name\u001b[39m\u001b[38;5;124m\"\u001b[39m)\n",
      "\u001b[0;31mModuleNotFoundError\u001b[0m: No module named 'argilla.client.feedback'; 'argilla.client' is not a package"
     ]
    }
   ],
   "source": [
    "import argilla as rg\n",
    "from argilla.client.feedback.metrics import AnnotatorMetric\n",
    "\n",
    "dataset = rg.FeedbackDataset.from_argilla(\"your_dataset_name\", workspace=\"your_workspace\")\n",
    "metric = AnnotatorMetric(dataset=dataset, question_name=\"your_question_name\")\n",
    "metrics_report = metric.compute(\"accuracy\")\n"
   ]
  },
  {
   "cell_type": "code",
   "execution_count": null,
   "metadata": {},
   "outputs": [],
   "source": []
  }
 ],
 "metadata": {
  "kernelspec": {
   "display_name": "base",
   "language": "python",
   "name": "python3"
  },
  "language_info": {
   "codemirror_mode": {
    "name": "ipython",
    "version": 3
   },
   "file_extension": ".py",
   "mimetype": "text/x-python",
   "name": "python",
   "nbconvert_exporter": "python",
   "pygments_lexer": "ipython3",
   "version": "3.12.7"
  }
 },
 "nbformat": 4,
 "nbformat_minor": 2
}
