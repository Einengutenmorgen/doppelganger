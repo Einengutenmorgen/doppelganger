{
 "cells": [
  {
   "cell_type": "code",
   "execution_count": 1,
   "id": "dfcc64c6-c05a-4e83-9e4b-7bbdf37490fc",
   "metadata": {},
   "outputs": [],
   "source": [
    "import argparse\n",
    "import os\n",
    "import sys\n",
    "import logging\n",
    "from dotenv import load_dotenv\n",
    "import traceback2 as traceback\n",
    "import json\n",
    "from datetime import datetime, timezone\n",
    "import gc"
   ]
  },
  {
   "cell_type": "code",
   "execution_count": 2,
   "id": "0e8d83ab-006e-47aa-83d0-c1209f1f14d6",
   "metadata": {},
   "outputs": [
    {
     "data": {
      "text/plain": [
       "0"
      ]
     },
     "execution_count": 2,
     "metadata": {},
     "output_type": "execute_result"
    }
   ],
   "source": [
    "gc.collect()"
   ]
  },
  {
   "cell_type": "code",
   "execution_count": 3,
   "id": "c62b56af-dfc0-4566-8c04-f786bb7e7d9b",
   "metadata": {},
   "outputs": [],
   "source": [
    "os.chdir(\"/home/s2mudemi\")"
   ]
  },
  {
   "cell_type": "code",
   "execution_count": 4,
   "id": "b8e6fdcc-1b37-4169-9b7b-c556446bb154",
   "metadata": {},
   "outputs": [],
   "source": [
    "from research_case.analyzers.persona_analysis import PersonaAnalyzer , ExtendedPersonaAnalyzer, PersonaFieldAnalyzer\n",
    "from research_case.analyzers.llm_client import LLMClient\n",
    "\n",
    "load_dotenv()\n",
    "\n",
    "# Setup logging\n",
    "logger = logging.getLogger(__name__)\n",
    "logging.basicConfig(level=logging.INFO)"
   ]
  },
  {
   "cell_type": "code",
   "execution_count": 5,
   "id": "b7ab1e47-9c4c-414d-a7d6-7d5b4fc3cafc",
   "metadata": {},
   "outputs": [],
   "source": [
    "def load_and_sample_users(input_path: str, max_personas: int) -> dict:\n",
    "    \"\"\"\n",
    "    Load user data from JSON and sample up to max_personas users.\n",
    "    \n",
    "    Args:\n",
    "        input_path: Path to input JSON file\n",
    "        max_personas: Maximum number of personas to create\n",
    "        \n",
    "    Returns:\n",
    "        Dict containing sampled user data\n",
    "    \"\"\"\n",
    "    try:\n",
    "        with open(input_path, 'r') as f:\n",
    "            all_users = json.load(f)\n",
    "            \n",
    "        # If max_personas is specified and less than total users, sample randomly\n",
    "        if max_personas and len(all_users) > max_personas:\n",
    "            import random\n",
    "            sampled_user_ids = random.sample(list(all_users.keys()), max_personas)\n",
    "            sampled_users = {uid: all_users[uid] for uid in sampled_user_ids}\n",
    "            logger.info(f\"Sampled {max_personas} users from total {len(all_users)} users\")\n",
    "            return sampled_users\n",
    "        \n",
    "        return all_users\n",
    "        \n",
    "    except Exception as e:\n",
    "        logger.error(f\"Error loading user data: {e}\")\n",
    "        raise"
   ]
  },
  {
   "cell_type": "code",
   "execution_count": 6,
   "id": "35b99366-d694-41a4-ab17-b233ad2aef43",
   "metadata": {},
   "outputs": [],
   "source": [
    "def main():\n",
    "      \n",
    "    args = {\n",
    "        \"input\": \"/home/s2mudemi/research_case/data/preprocessed/processed_users.json\",\n",
    "        \"conversations\": \"/home/s2mudemi/research_case/data/preprocessed/processed_conversations.json\",\n",
    "        \"output\": \"/home/s2mudemi/research_case/data\",\n",
    "        \"n_posts\": 5,\n",
    "        \"n_conversations\": 5,\n",
    "        \"max_personas\": 1,\n",
    "        \"experiment_name\": \"my_experiment\",\n",
    "        \"use_random_fields\": False,\n",
    "        \"num_fields\": 5\n",
    "    }\n",
    "    \n",
    "    input_path = args[\"input\"]\n",
    "    conversations_path = args[\"conversations\"]\n",
    "    output_path = os.path.join(args[\"output\"], args[\"experiment_name\"], \"personas.json\")\n",
    "\n",
    "    # Validate input file\n",
    "    if not os.path.exists(input_path):\n",
    "        logger.error(f\"Input file not found: {input_path}\")\n",
    "        exit(1)\n",
    "    \n",
    "    \n",
    "    llm_client = LLMClient(model_name=\"llama3:70b\")\n",
    "    analyzer = ExtendedPersonaAnalyzer(llm_client)\n",
    "    field_analyzer = PersonaFieldAnalyzer(llm_client)\n",
    "    \n",
    "    # Step 4: Run analysis\n",
    "    try:\n",
    "        logger.info(\"Starting persona analysis...\")\n",
    "        \n",
    "        # Load and sample users if max_personas is specified\n",
    "        sampled_users = load_and_sample_users(input_path, args[\"max_personas\"])\n",
    "        \n",
    "        temp_input = os.path.join(os.path.dirname(input_path), \"temp_sampled_users.json\")\n",
    "        with open(temp_input, 'w') as f:\n",
    "            json.dump(sampled_users, f)\n",
    "                \n",
    "        num_fields = field_analyzer.detect_the_fields(\n",
    "            posts_path=temp_input,\n",
    "            conversations_path=conversations_path, \n",
    "            n_posts=args[\"n_posts\"],\n",
    "            n_conversations=args[\"n_conversations\"])\n",
    "        \n",
    "        print(\"printing_number of fields: \", num_fields)\n",
    "\n",
    "        for i in range(3):\n",
    "            print(f\"Iteration {i}\")\n",
    "            analyzer.analyze_persona_from_files(\n",
    "                posts_path=temp_input,\n",
    "                conversations_path=conversations_path,\n",
    "                output_path=output_path,\n",
    "                founded_fields=num_fields,\n",
    "                n_posts=args[\"n_posts\"],\n",
    "                n_conversations=args[\"n_conversations\"])\n",
    "            \n",
    "        os.remove(temp_input)\n",
    "            \n",
    "        logger.info(f\"Persona analysis with fields: {num_fields} completed. Results saved to {output_path}\")\n",
    "            \n",
    "    except Exception as e:\n",
    "            logger.error(\"Failed to analyze personas:\")\n",
    "            logger.error(traceback.format_exc())\n",
    "            if 'temp_input' in locals() and os.path.exists(temp_input):\n",
    "                os.remove(temp_input)\n",
    "            raise\n",
    "            exit(1)"
   ]
  },
  {
   "cell_type": "code",
   "execution_count": 7,
   "id": "3780b443-6126-47e4-91ec-3a76c398e3dc",
   "metadata": {},
   "outputs": [
    {
     "name": "stderr",
     "output_type": "stream",
     "text": [
      "INFO:research_case.analyzers.persona_analysis:Initialized PersonaPromptGenerator\n",
      "INFO:research_case.analyzers.persona_analysis:Initialized PersonaPromptGenerator\n",
      "INFO:__main__:Starting persona analysis...\n",
      "INFO:__main__:Sampled 1 users from total 2 users\n",
      "INFO:httpx:HTTP Request: POST http://127.0.0.1:11434/api/generate \"HTTP/1.1 200 OK\"\n",
      "INFO:research_case.analyzers.persona_analysis:Persona field analysis complete. Found fields: ['language_formality', 'opinion_expression', 'narrative_voice', 'emotional_expression', 'vocabulary_range', 'controversy_handling', 'value_signals', 'brevity_style', 'punctuation_style']\n"
     ]
    },
    {
     "name": "stdout",
     "output_type": "stream",
     "text": [
      "printing_number of fields:  ['language_formality', 'opinion_expression', 'narrative_voice', 'emotional_expression', 'vocabulary_range', 'controversy_handling', 'value_signals', 'brevity_style', 'punctuation_style']\n",
      "Iteration 0\n"
     ]
    },
    {
     "name": "stderr",
     "output_type": "stream",
     "text": [
      "INFO:httpx:HTTP Request: POST http://127.0.0.1:11434/api/generate \"HTTP/1.1 200 OK\"\n",
      "INFO:research_case.analyzers.persona_analysis:Successfully saved JSON file (1750 bytes) to /home/s2mudemi/research_case/data/my_experiment/personas.json\n",
      "INFO:research_case.analyzers.persona_analysis:Persona analysis complete. Results saved to /home/s2mudemi/research_case/data/my_experiment/personas.json\n"
     ]
    },
    {
     "name": "stdout",
     "output_type": "stream",
     "text": [
      "Iteration 1\n"
     ]
    },
    {
     "name": "stderr",
     "output_type": "stream",
     "text": [
      "INFO:httpx:HTTP Request: POST http://127.0.0.1:11434/api/generate \"HTTP/1.1 200 OK\"\n",
      "INFO:research_case.analyzers.persona_analysis:Successfully saved JSON file (2261 bytes) to /home/s2mudemi/research_case/data/my_experiment/personas.json\n",
      "INFO:research_case.analyzers.persona_analysis:Persona analysis complete. Results saved to /home/s2mudemi/research_case/data/my_experiment/personas.json\n"
     ]
    },
    {
     "name": "stdout",
     "output_type": "stream",
     "text": [
      "Iteration 2\n"
     ]
    },
    {
     "name": "stderr",
     "output_type": "stream",
     "text": [
      "INFO:httpx:HTTP Request: POST http://127.0.0.1:11434/api/generate \"HTTP/1.1 200 OK\"\n",
      "INFO:research_case.analyzers.persona_analysis:Successfully saved JSON file (4091 bytes) to /home/s2mudemi/research_case/data/my_experiment/personas.json\n",
      "INFO:research_case.analyzers.persona_analysis:Persona analysis complete. Results saved to /home/s2mudemi/research_case/data/my_experiment/personas.json\n",
      "INFO:__main__:Persona analysis with fields: ['language_formality', 'opinion_expression', 'narrative_voice', 'emotional_expression', 'vocabulary_range', 'controversy_handling', 'value_signals', 'brevity_style', 'punctuation_style'] completed. Results saved to /home/s2mudemi/research_case/data/my_experiment/personas.json\n"
     ]
    }
   ],
   "source": [
    "if __name__ == \"__main__\":\n",
    "    main()"
   ]
  },
  {
   "cell_type": "code",
   "execution_count": null,
   "id": "0e2a5657-7f91-4447-93ec-8d1b6228f74f",
   "metadata": {},
   "outputs": [],
   "source": [
    "pwd"
   ]
  },
  {
   "cell_type": "code",
   "execution_count": null,
   "id": "de772796-7acd-4d16-9b98-c446d9a8eeb1",
   "metadata": {},
   "outputs": [],
   "source": []
  }
 ],
 "metadata": {
  "kernelspec": {
   "display_name": "Python (rcs24)",
   "language": "python",
   "name": "rcs24"
  },
  "language_info": {
   "codemirror_mode": {
    "name": "ipython",
    "version": 3
   },
   "file_extension": ".py",
   "mimetype": "text/x-python",
   "name": "python",
   "nbconvert_exporter": "python",
   "pygments_lexer": "ipython3",
   "version": "3.11.10"
  }
 },
 "nbformat": 4,
 "nbformat_minor": 5
}
